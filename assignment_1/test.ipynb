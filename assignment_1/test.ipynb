{
 "cells": [
  {
   "cell_type": "code",
   "execution_count": 65,
   "id": "51a928d9",
   "metadata": {},
   "outputs": [],
   "source": [
    "import cv2\n",
    "import numpy as np\n",
    "import os"
   ]
  },
  {
   "cell_type": "code",
   "execution_count": 54,
   "id": "c6b9b5ff",
   "metadata": {},
   "outputs": [],
   "source": [
    "img = cv2.imread('lena-1.png', 1)"
   ]
  },
  {
   "cell_type": "code",
   "execution_count": 55,
   "id": "7484c1e5",
   "metadata": {},
   "outputs": [],
   "source": [
    "cv2.imshow('image', img)\n",
    "cv2.waitKey(0)\n",
    "cv2.destroyAllWindows()"
   ]
  },
  {
   "cell_type": "code",
   "execution_count": 56,
   "id": "12db8246",
   "metadata": {},
   "outputs": [],
   "source": [
    "def print_image_information(image):\n",
    "    height, width, channels = image.shape\n",
    "    size = image.size\n",
    "    dtype = image.dtype\n",
    "\n",
    "    print(f\"height: {height}\")\n",
    "    print(f\"width={width}\")\n",
    "    print(f\"channels={channels}\")\n",
    "    print(f\"size={size}\")\n",
    "    print(f\"dtype={dtype}\")\n"
   ]
  },
  {
   "cell_type": "code",
   "execution_count": 57,
   "id": "f4c194c6",
   "metadata": {},
   "outputs": [
    {
     "name": "stdout",
     "output_type": "stream",
     "text": [
      "height: 512\n",
      "width=512\n",
      "channels=3\n",
      "size=786432\n",
      "dtype=uint8\n"
     ]
    }
   ],
   "source": [
    "print_image_information(img)"
   ]
  },
  {
   "cell_type": "code",
   "execution_count": null,
   "id": "09fc6c3f",
   "metadata": {},
   "outputs": [],
   "source": [
    "def write_camera_info():\n",
    "    camera = cv2.VideoCapture(0)\n",
    "\n",
    "    camera_width = int(camera.get(cv2.CAP_PROP_FRAME_WIDTH))\n",
    "    camera_height = int(camera.get(cv2.CAP_PROP_FRAME_HEIGHT))\n",
    "    camera_fps = int(camera.get(cv2.CAP_PROP_FPS))\n",
    "\n",
    "    camera.release()\n",
    "\n",
    "    content = f\"fps: {camera_fps}\\nheight: {camera_height}\\nwidth: {camera_width}\"\n",
    "    file_path = os.path.join(\"solutions\", \"camera_outputs.txt\")\n",
    "\n",
    "    with open(file_path, \"w\") as f:\n",
    "        f.write(content)"
   ]
  },
  {
   "cell_type": "code",
   "execution_count": null,
   "id": "2697c788",
   "metadata": {},
   "outputs": [],
   "source": []
  }
 ],
 "metadata": {
  "kernelspec": {
   "display_name": ".venv",
   "language": "python",
   "name": "python3"
  },
  "language_info": {
   "codemirror_mode": {
    "name": "ipython",
    "version": 3
   },
   "file_extension": ".py",
   "mimetype": "text/x-python",
   "name": "python",
   "nbconvert_exporter": "python",
   "pygments_lexer": "ipython3",
   "version": "3.13.7"
  }
 },
 "nbformat": 4,
 "nbformat_minor": 5
}
